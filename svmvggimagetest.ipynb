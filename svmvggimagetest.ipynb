{
 "cells": [
  {
   "cell_type": "code",
   "execution_count": 1,
   "id": "5693d2dc-5370-43e0-8b5e-b31a490efc10",
   "metadata": {},
   "outputs": [],
   "source": [
    "import numpy as np\n",
    "from sklearn.svm import SVC\n",
    "import seaborn as sns\n",
    "import matplotlib.pyplot as plt\n",
    "from sklearn.model_selection import train_test_split\n",
    "from sklearn.metrics import accuracy_score\n",
    "from keras.models import load_model,Model\n",
    "from keras.preprocessing import image\n",
    "from keras.applications.vgg16 import preprocess_input\n",
    "import os"
   ]
  },
  {
   "cell_type": "code",
   "execution_count": 2,
   "id": "fbc97212-d6ed-47ba-8154-7ac85c2eefab",
   "metadata": {},
   "outputs": [],
   "source": [
    "model = load_model('newVGG.h5')\n",
    "conv_layer_output = model.get_layer('global_max_pooling2d').output\n",
    "feature_extraction_model = Model(inputs=model.input, outputs=conv_layer_output)"
   ]
  },
  {
   "cell_type": "code",
   "execution_count": 3,
   "id": "e428bcec-f6b3-496a-bf3a-d28f88ac5ce9",
   "metadata": {},
   "outputs": [],
   "source": [
    "def extract_features(model, img_path):\n",
    "    img = image.load_img(img_path, target_size=(224, 224))  # Assuming input size of the model is 224x224\n",
    "    img_array = image.img_to_array(img)\n",
    "    img_array = np.expand_dims(img_array, axis=0)\n",
    "    img_array = preprocess_input(img_array)\n",
    "    features = model.predict(img_array)\n",
    "    return features.flatten()"
   ]
  },
  {
   "cell_type": "code",
   "execution_count": 4,
   "id": "beddb8f9-a3eb-4493-80e8-f6e6deeb99bb",
   "metadata": {},
   "outputs": [],
   "source": [
    "img_path = './tumor_dataset/data/test/yes/no.jpg'\n",
    "features = extract_features(feature_extraction_model, img_path)"
   ]
  },
  {
   "cell_type": "code",
   "execution_count": 5,
   "id": "5602cc90-cad3-4660-86b3-ff56c8d97814",
   "metadata": {},
   "outputs": [],
   "source": [
    "import joblib\n",
    "svc=joblib.load('svm_vgg.pkl')"
   ]
  },
  {
   "cell_type": "code",
   "execution_count": 8,
   "id": "05b6cea6-86f9-48e8-b4b6-56b5cae984d3",
   "metadata": {},
   "outputs": [],
   "source": [
    "result=svc.predict(features.reshape(1, -1))"
   ]
  },
  {
   "cell_type": "code",
   "execution_count": 9,
   "id": "802b471e-7ead-4eb1-8dcc-17e887977bd1",
   "metadata": {},
   "outputs": [
    {
     "data": {
      "text/plain": [
       "'No'"
      ]
     },
     "execution_count": 9,
     "metadata": {},
     "output_type": "execute_result"
    }
   ],
   "source": [
    "result[0]"
   ]
  },
  {
   "cell_type": "code",
   "execution_count": null,
   "id": "85d0af7d-a5f6-4c6a-862d-61d0171d5906",
   "metadata": {},
   "outputs": [],
   "source": []
  }
 ],
 "metadata": {
  "kernelspec": {
   "display_name": "Python 3 (ipykernel)",
   "language": "python",
   "name": "python3"
  },
  "language_info": {
   "codemirror_mode": {
    "name": "ipython",
    "version": 3
   },
   "file_extension": ".py",
   "mimetype": "text/x-python",
   "name": "python",
   "nbconvert_exporter": "python",
   "pygments_lexer": "ipython3",
   "version": "3.9.18"
  }
 },
 "nbformat": 4,
 "nbformat_minor": 5
}
